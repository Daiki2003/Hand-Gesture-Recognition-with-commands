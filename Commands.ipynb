{
 "cells": [
  {
   "cell_type": "markdown",
   "id": "e80b3784",
   "metadata": {},
   "source": [
    "# Import The Libraries"
   ]
  },
  {
   "cell_type": "code",
   "execution_count": 1,
   "id": "7083f751",
   "metadata": {},
   "outputs": [],
   "source": [
    "import torch\n",
    "from matplotlib import pyplot as plt\n",
    "import numpy as np\n",
    "import cv2\n",
    "import glob\n",
    "import os\n",
    "import speech_recognition as sr\n",
    "import pyttsx3\n",
    "import pyautogui\n",
    "import time\n",
    "import screen_brightness_control as sbc"
   ]
  },
  {
   "cell_type": "markdown",
   "id": "f835776d",
   "metadata": {},
   "source": [
    "# Download The Model"
   ]
  },
  {
   "cell_type": "code",
   "execution_count": 2,
   "id": "f8e08d65",
   "metadata": {},
   "outputs": [
    {
     "name": "stderr",
     "output_type": "stream",
     "text": [
      "Downloading: \"https://github.com/ultralytics/yolov5/zipball/master\" to C:\\Users\\gamin/.cache\\torch\\hub\\master.zip\n",
      "YOLOv5  2023-12-26 Python-3.9.13 torch-2.1.1+cpu CPU\n",
      "\n",
      "Fusing layers... \n",
      "Model summary: 157 layers, 7034398 parameters, 0 gradients, 15.8 GFLOPs\n",
      "Adding AutoShape... \n"
     ]
    }
   ],
   "source": [
    "model = torch.hub.load('ultralytics/yolov5', 'custom', path=r'best.pt', force_reload=True)"
   ]
  },
  {
   "cell_type": "markdown",
   "id": "9f0f06f8",
   "metadata": {},
   "source": [
    "# Detect in Real-time"
   ]
  },
  {
   "cell_type": "code",
   "execution_count": 7,
   "id": "28010636",
   "metadata": {},
   "outputs": [],
   "source": [
    "cap = cv2.VideoCapture(0)\n",
    "while cap.isOpened():\n",
    "    ret, frame = cap.read()\n",
    "    \n",
    "    results = model(frame)\n",
    "    \n",
    "    cv2.imshow('YOLO', np.squeeze(results.render()))\n",
    "    \n",
    "    if cv2.waitKey(1) & 0xFF == ord('q'):\n",
    "        break\n",
    "cap.release()\n",
    "cv2.destroyAllWindows()"
   ]
  },
  {
   "cell_type": "markdown",
   "id": "1b9e343e",
   "metadata": {},
   "source": [
    "# Read from a folder"
   ]
  },
  {
   "cell_type": "code",
   "execution_count": null,
   "id": "2b343bfe",
   "metadata": {},
   "outputs": [],
   "source": [
    "Folder = r'' #pass your folder path\n",
    "\n",
    "for image_path in glob.glob(os.path.join(Folder, \"*.jpg\")):\n",
    "    image = cv2.imread(image_path)\n",
    "    image = cv2.cvtColor(image,cv2.COLOR_BGR2RGB)\n",
    "    results = model(image)\n",
    "\n",
    "    results.print()\n",
    "    results.save()"
   ]
  },
  {
   "cell_type": "markdown",
   "id": "3be23979",
   "metadata": {},
   "source": [
    "# Read a single image"
   ]
  },
  {
   "cell_type": "code",
   "execution_count": 23,
   "id": "ea288d45",
   "metadata": {
    "scrolled": false
   },
   "outputs": [
    {
     "name": "stderr",
     "output_type": "stream",
     "text": [
      "image 1/1: 480x640 1 heart\n",
      "Speed: 6.0ms pre-process, 172.5ms inference, 0.0ms NMS per image at shape (1, 3, 480, 640)\n"
     ]
    },
    {
     "name": "stdout",
     "output_type": "stream",
     "text": [
      "hello\n"
     ]
    }
   ],
   "source": [
    "image = cv2.imread(r\"\") #pass your image path and the extension\n",
    "image = cv2.cvtColor(image,cv2.COLOR_BGR2RGB)\n",
    "results = model(image)\n",
    "results.print()\n",
    "results.save()"
   ]
  },
  {
   "cell_type": "markdown",
   "id": "eb817040",
   "metadata": {},
   "source": [
    "# Defining the functions "
   ]
  },
  {
   "cell_type": "code",
   "execution_count": 3,
   "id": "575f1956",
   "metadata": {},
   "outputs": [],
   "source": [
    "player = pyttsx3.init()\n",
    "voices = player.getProperty('voices')\n",
    "player.setProperty('voice', voices[1].id)"
   ]
  },
  {
   "cell_type": "code",
   "execution_count": 4,
   "id": "d8dac1f9",
   "metadata": {},
   "outputs": [],
   "source": [
    "def talk(text):\n",
    "    player.say(text)\n",
    "    player.runAndWait()\n",
    "def shutdown():\n",
    "    return os.system(\"shutdown /s /t 1\")\n",
    "\n",
    "def restart():\n",
    "    return os.system(\"shutdown /r /t 1\")\n",
    "\n",
    "def logout():\n",
    "    return os.system(\"shutdown -l\")"
   ]
  },
  {
   "cell_type": "markdown",
   "id": "a6fb0ab6",
   "metadata": {},
   "source": [
    "# Applying the commands in real-time"
   ]
  },
  {
   "cell_type": "code",
   "execution_count": null,
   "id": "a12ea691",
   "metadata": {},
   "outputs": [],
   "source": [
    "cap = cv2.VideoCapture(0)\n",
    "while cap.isOpened():\n",
    "    ret, frame = cap.read()\n",
    "    \n",
    "    frame = model(frame)\n",
    "    String = str(frame)\n",
    "    detect = np.squeeze(frame.render())\n",
    "    cv2.imshow('YOLO', detect)\n",
    "    \n",
    "    if 'thumbsup' in String:\n",
    "        pyautogui.press(\"volumeup\")\n",
    "    elif 'thumbsdown' in String:\n",
    "        pyautogui.press(\"volumedown\")\n",
    "    elif 'peace' in String:\n",
    "        talk(\"Free Palestine\")\n",
    "    elif 'hi' in String:\n",
    "        talk('hi')\n",
    "    elif 'love' in String:\n",
    "        talk(\"I love you too\")\n",
    "    elif 'fist' in String:\n",
    "        break\n",
    "    elif 'thankyou' in String:\n",
    "        shutdown()\n",
    "    elif 'livelong' in String:\n",
    "        sbc.set_brightness(75)\n",
    "    elif 'heart' in String:\n",
    "        sbc.set_brightness(50)\n",
    "    elif ' down' in String:\n",
    "        sbc.set_brightness(25)\n",
    "\n",
    "    if cv2.waitKey(1) & 0xFF == ord('q'):\n",
    "        break\n",
    "cap.release()\n",
    "cv2.destroyAllWindows()"
   ]
  },
  {
   "cell_type": "code",
   "execution_count": null,
   "id": "f94fa39c",
   "metadata": {},
   "outputs": [],
   "source": []
  }
 ],
 "metadata": {
  "kernelspec": {
   "display_name": "Python 3 (ipykernel)",
   "language": "python",
   "name": "python3"
  },
  "language_info": {
   "codemirror_mode": {
    "name": "ipython",
    "version": 3
   },
   "file_extension": ".py",
   "mimetype": "text/x-python",
   "name": "python",
   "nbconvert_exporter": "python",
   "pygments_lexer": "ipython3",
   "version": "3.9.13"
  }
 },
 "nbformat": 4,
 "nbformat_minor": 5
}
